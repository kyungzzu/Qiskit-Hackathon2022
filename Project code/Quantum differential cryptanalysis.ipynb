{
 "cells": [
  {
   "cell_type": "code",
   "execution_count": 1,
   "id": "2929e9a8-aa3e-40d2-9652-0e1906a6f9fd",
   "metadata": {},
   "outputs": [],
   "source": [
    "# %grover search\n",
    "# %matplotlib inline\n",
    "from qiskit import *\n",
    "from qiskit.compiler import transpile, assemble\n",
    "from qiskit.tools.jupyter import *\n",
    "from qiskit.circuit.library import ZGate\n",
    "from qiskit.circuit.library import Permutation\n",
    "from qiskit.circuit import *\n",
    "# provider = IBMQ.load_account()\n",
    "\n",
    "from qiskit.quantum_info import Statevector\n",
    "from qiskit.visualization import plot_bloch_multivector"
   ]
  },
  {
   "cell_type": "code",
   "execution_count": 2,
   "id": "e04103a4-11e9-4078-be41-29456bbef765",
   "metadata": {},
   "outputs": [],
   "source": [
    "def p_sbox_light_r(cir, b):\n",
    "    cir.cx(b[2], b[1])\n",
    "    cir.ccx(b[1], b[2], b[3])\n",
    "    cir.ccx(b[3], b[1], b[2])\n",
    "    cir.ccx(b[0], b[2], b[1])\n",
    "    cir.cx(b[3], b[2])\n",
    "    cir.x(b[3])\n",
    "    cir.cx(b[1], b[2])\n",
    "    cir.cx(b[3], b[0])\n",
    "    cir.cx(b[0], b[1])\n",
    "    cir.x(b[0])\n",
    "    cir.ccx(b[1], b[2], b[3])\n",
    "    \n",
    "    cir.swap(b[1], b[2])\n",
    "    cir.swap(b[2], b[3])\n",
    "    \n",
    "    \n",
    "    cir.cx(b[6], b[5])\n",
    "    cir.ccx(b[5], b[6], b[7])\n",
    "    cir.ccx(b[7], b[5], b[6])\n",
    "    cir.ccx(b[4], b[6], b[5])\n",
    "    cir.cx(b[7], b[6])\n",
    "    cir.x(b[7])\n",
    "    cir.cx(b[5], b[6])\n",
    "    cir.cx(b[7], b[4])\n",
    "    cir.cx(b[4], b[5])\n",
    "    cir.x(b[4])\n",
    "    cir.ccx(b[5], b[6], b[7])\n",
    "    \n",
    "    # cir += Permutation(num_qubits = 8,pattern = [0, 2, 3, 1, 4, 6, 7, 5])\n",
    "    \n",
    "    cir.swap(b[5], b[6])\n",
    "    cir.swap(b[6], b[7])\n",
    "    \n",
    "    \n",
    "    "
   ]
  },
  {
   "cell_type": "code",
   "execution_count": 3,
   "id": "b8e566c7-2a11-4234-a5c0-339668519673",
   "metadata": {},
   "outputs": [],
   "source": [
    "def p_sbox_inverse(cir, b):\n",
    "    # cir += Permutation(num_qubits = 8, pattern = [0, 1, 2, 3, 4, 5, 6, 7])\n",
    "    cir.swap(b[6], b[7])\n",
    "    cir.swap(b[5], b[6])\n",
    "    \n",
    "    cir.ccx(b[5], b[6], b[7])\n",
    "    cir.x(b[4])\n",
    "    cir.cx(b[4], b[5])\n",
    "    cir.cx(b[7], b[4])\n",
    "    cir.cx(b[5], b[6])\n",
    "    cir.x(b[7])\n",
    "    cir.cx(b[7], b[6])\n",
    "    cir.ccx(b[4], b[6], b[5])\n",
    "    cir.ccx(b[7], b[5], b[6])\n",
    "    cir.ccx(b[5], b[6], b[7])\n",
    "    cir.cx(b[6], b[5])\n",
    "    \n",
    "    cir.swap(b[2], b[3])\n",
    "    cir.swap(b[1], b[2])\n",
    "    \n",
    "    cir.ccx(b[1], b[2], b[3])\n",
    "    cir.x(b[0])\n",
    "    cir.cx(b[0], b[1])\n",
    "    cir.cx(b[3], b[0])\n",
    "    cir.cx(b[1], b[2])\n",
    "    cir.x(b[3])\n",
    "    cir.cx(b[3], b[2])\n",
    "    cir.ccx(b[0], b[2], b[1])\n",
    "    cir.ccx(b[3], b[1], b[2])\n",
    "    cir.ccx(b[1], b[2], b[3])\n",
    "    cir.cx(b[2], b[1])    \n",
    "    "
   ]
  },
  {
   "cell_type": "code",
   "execution_count": 4,
   "id": "a90794cf-6feb-48a8-872d-d766f76420d1",
   "metadata": {},
   "outputs": [],
   "source": [
    "def permutation(cir, m):\n",
    "    # cir += Permutation(num_qubits = 8, pattern = [0, 4, 1, 5, 2, 6, 3, 7])\n",
    "    cir.swap(m[1], m[4])\n",
    "    cir.swap(m[2], m[4])\n",
    "    cir.swap(m[3], m[5])\n",
    "    cir.swap(m[5], m[6])\n",
    "    "
   ]
  },
  {
   "cell_type": "code",
   "execution_count": 5,
   "id": "ab2c35ef-ce69-48bf-9bee-196f487da2e2",
   "metadata": {},
   "outputs": [],
   "source": [
    "def permutation_inverse(cir, m):\n",
    "    # cir += Permutation(num_qubits = 8, pattern = [0, 1, 2, 3, 4, 5, 6, 7])\n",
    "    cir.swap(m[5], m[6])\n",
    "    cir.swap(m[3], m[5])\n",
    "    cir.swap(m[2], m[4])\n",
    "    cir.swap(m[1], m[4])"
   ]
  },
  {
   "cell_type": "code",
   "execution_count": 6,
   "id": "a6f5bc3a-65e5-4ad2-9d5b-4c2f76f03ab1",
   "metadata": {},
   "outputs": [],
   "source": [
    "def Encrypt(cir, m):\n",
    "    p_sbox_light_r(cir, m)\n",
    "    permutation(cir, m)\n",
    "    \n",
    "    p_sbox_light_r(cir, m)\n",
    "    permutation(cir, m)\n",
    "    \n",
    "    p_sbox_light_r(cir, m)\n",
    "    permutation(cir, m)\n",
    "    \n",
    "    p_sbox_light_r(cir, m)\n",
    "    permutation(cir, m)"
   ]
  },
  {
   "cell_type": "code",
   "execution_count": 7,
   "id": "9088cb82-9bfc-4b06-b147-17832f05ef77",
   "metadata": {},
   "outputs": [],
   "source": [
    "def Decrypt(cir, m):\n",
    "    permutation_inverse\n",
    "    p_sbox_inverse(cir, m)\n",
    "    \n",
    "    permutation_inverse\n",
    "    p_sbox_inverse(cir, m)\n",
    "    \n",
    "    permutation_inverse\n",
    "    p_sbox_inverse(cir, m)\n",
    "    \n",
    "    permutation_inverse\n",
    "    p_sbox_inverse(cir, m)"
   ]
  },
  {
   "cell_type": "code",
   "execution_count": 8,
   "id": "d4ff549a-7f1a-4238-af97-eaac98b9ec8d",
   "metadata": {},
   "outputs": [],
   "source": [
    "# def DC_check():\n",
    "#     p = QuantumRegister(8)\n",
    "#     p_prime = QuantumRegister(8)\n",
    "#     res = ClassicalRegister(8)\n",
    "#     res_prime = ClassicalRegister(8)\n",
    "    \n",
    "#     circuit = QuantumCircuit(p,p_prime, res_prime)\n",
    "#     # n = 4\n",
    "\n",
    "#     # 01100001\n",
    "#     circuit.x(p[1])\n",
    "#     circuit.x(p[2])\n",
    "#     # circuit.x(p[4])\n",
    "#     # circuit.x(p[5])\n",
    "#     circuit.x(p[7])\n",
    "    \n",
    "#     circuit.cx(p[0], p_prime[0])\n",
    "#     circuit.cx(p[1], p_prime[1])\n",
    "#     circuit.cx(p[2], p_prime[2])\n",
    "#     circuit.cx(p[3], p_prime[3])\n",
    "#     circuit.cx(p[4], p_prime[4])\n",
    "#     circuit.cx(p[5], p_prime[5])\n",
    "#     circuit.cx(p[6], p_prime[6])\n",
    "#     circuit.cx(p[7], p_prime[7])\n",
    "    \n",
    "    \n",
    "#     #delta = (01100101)\n",
    "#     circuit.x(p_prime[1])\n",
    "#     circuit.x(p_prime[2])\n",
    "#     circuit.x(p_prime[5])\n",
    "#     circuit.x(p_prime[7])\n",
    "    \n",
    "\n",
    "#     Encrypt(circuit, p)\n",
    "#     Encrypt(circuit, p_prime)\n",
    "    \n",
    "#     circuit.cx(p[0], p_prime[0])\n",
    "#     circuit.cx(p[1], p_prime[1])\n",
    "#     circuit.cx(p[2], p_prime[2])\n",
    "#     circuit.cx(p[3], p_prime[3])\n",
    "#     circuit.cx(p[4], p_prime[4])\n",
    "#     circuit.cx(p[5], p_prime[5])\n",
    "#     circuit.cx(p[6], p_prime[6])\n",
    "#     circuit.cx(p[7], p_prime[7])\n",
    "    \n",
    "#     circuit.measure([p_prime[0],p_prime[1],p_prime[2],p_prime[3],p_prime[4],p_prime[5],p_prime[6],p_prime[7]],[res_prime[0], res_prime[1], res_prime[2], res_prime[3], res_prime[4], res_prime[5], res_prime[6], res_prime[7]])\n",
    "    \n",
    "#     backend = BasicAer.get_backend('qasm_simulator') # the device to run on\n",
    "#     result = execute(circuit, backend, shots=1).result()\n",
    "#     counts  = result.get_counts(circuit)\n",
    "    \n",
    "#     print(counts)\n",
    "\n",
    "# DC_check()\n",
    "\n",
    "\n",
    "# #(01110011)\n"
   ]
  },
  {
   "cell_type": "code",
   "execution_count": 9,
   "id": "f948a777-29e2-4c96-921c-0aee148aa428",
   "metadata": {},
   "outputs": [
    {
     "name": "stdout",
     "output_type": "stream",
     "text": [
      "{'10010001': 1}\n"
     ]
    }
   ],
   "source": [
    "def DC():\n",
    "    p = QuantumRegister(8)\n",
    "    p_prime = QuantumRegister(8)\n",
    "    res = ClassicalRegister(8)\n",
    "    circuit = QuantumCircuit(p,p_prime,res)\n",
    "    n = 4 #iteration number\n",
    "    \n",
    "    circuit.h(p[0:8])\n",
    "    \n",
    "    for k in range(n):\n",
    "        #oracle\n",
    "        circuit.cx(p[0],p_prime[0])\n",
    "        circuit.cx(p[1],p_prime[1])\n",
    "        circuit.cx(p[2],p_prime[2])\n",
    "        circuit.cx(p[3],p_prime[3])\n",
    "        circuit.cx(p[4],p_prime[4])\n",
    "        circuit.cx(p[5],p_prime[5])\n",
    "        circuit.cx(p[6],p_prime[6])\n",
    "        circuit.cx(p[7],p_prime[7])\n",
    "            \n",
    "        #delta = (01100101)\n",
    "        circuit.x(p_prime[1])\n",
    "        circuit.x(p_prime[2])\n",
    "        circuit.x(p_prime[5])\n",
    "        circuit.x(p_prime[7])\n",
    "            \n",
    "        Encrypt(circuit, p)\n",
    "        Encrypt(circuit, p_prime)\n",
    "            \n",
    "        #Compute after s-box Delta\n",
    "        circuit.cx(p[0],p_prime[0])\n",
    "        circuit.cx(p[1],p_prime[1])\n",
    "        circuit.cx(p[2],p_prime[2])\n",
    "        circuit.cx(p[3],p_prime[3])\n",
    "        circuit.cx(p[4],p_prime[4])\n",
    "        circuit.cx(p[5],p_prime[5])\n",
    "        circuit.cx(p[6],p_prime[6])\n",
    "        circuit.cx(p[7],p_prime[7])\n",
    "            \n",
    "        #Check Delta = (01110011)\n",
    "        circuit.x(p_prime[0])\n",
    "        circuit.x(p_prime[4])\n",
    "        circuit.x(p_prime[5])\n",
    "            \n",
    "        circuit.append(ZGate().control(7), \n",
    "                       [p_prime[0],p_prime[1],\n",
    "                        p_prime[2],p_prime[3],\n",
    "                        p_prime[4],p_prime[5],\n",
    "                        p_prime[6],p_prime[7]])\n",
    "        \n",
    "        \n",
    "        #inverse\n",
    "        circuit.x(p_prime[5])\n",
    "        circuit.x(p_prime[4])\n",
    "        circuit.x(p_prime[0])\n",
    "        \n",
    "        circuit.cx(p[7],p_prime[7])\n",
    "        circuit.cx(p[6],p_prime[6])\n",
    "        circuit.cx(p[5],p_prime[5])\n",
    "        circuit.cx(p[4],p_prime[4])\n",
    "        circuit.cx(p[3],p_prime[3])\n",
    "        circuit.cx(p[2],p_prime[2])\n",
    "        circuit.cx(p[1],p_prime[1])\n",
    "        circuit.cx(p[0],p_prime[0])\n",
    "        \n",
    "        Decrypt(circuit, p_prime)\n",
    "        Decrypt(circuit, p)\n",
    "        \n",
    "        circuit.x(p_prime[7])\n",
    "        circuit.x(p_prime[5])    \n",
    "        circuit.x(p_prime[2])    \n",
    "        circuit.x(p_prime[1])\n",
    "        \n",
    "        circuit.cx(p[7],p_prime[7])\n",
    "        circuit.cx(p[6],p_prime[6])\n",
    "        circuit.cx(p[5],p_prime[5])\n",
    "        circuit.cx(p[4],p_prime[4])\n",
    "        circuit.cx(p[3],p_prime[3])\n",
    "        circuit.cx(p[2],p_prime[2])\n",
    "        circuit.cx(p[1],p_prime[1])\n",
    "        circuit.cx(p[0],p_prime[0])\n",
    "        \n",
    "        \n",
    "        #diffusion\n",
    "        circuit.h(p[0:8])\n",
    "        circuit.x(p[0:8])\n",
    "        \n",
    "        circuit.append(ZGate().control(7), [p[0], p[1], \n",
    "                                            p[2], p[3], \n",
    "                                            p[4], p[5], \n",
    "                                            p[6], p[7]])\n",
    "        \n",
    "        circuit.x(p[0:8])\n",
    "        circuit.h(p[0:8])\n",
    "        \n",
    "        \n",
    "        \n",
    "    circuit.measure([p[0],p[1],\n",
    "                     p[2],p[3],\n",
    "                     p[4],p[5],\n",
    "                     p[6],p[7]],\n",
    "                    [res[0], res[1], \n",
    "                     res[2], res[3], \n",
    "                     res[4], res[5], \n",
    "                     res[6], res[7]])\n",
    "    \n",
    "    \n",
    "    backend = BasicAer.get_backend('qasm_simulator') # the device to run on\n",
    "    result = execute(circuit, backend, shots=1).result()\n",
    "    counts  = result.get_counts(circuit)\n",
    "\n",
    "    print(counts)\n",
    "\n",
    "DC()\n"
   ]
  },
  {
   "cell_type": "code",
   "execution_count": null,
   "id": "55468684-b14d-473c-a652-8831f76112c2",
   "metadata": {},
   "outputs": [],
   "source": []
  },
  {
   "cell_type": "code",
   "execution_count": null,
   "id": "3b3ab8f6-5488-45b6-b3f4-f45405738f16",
   "metadata": {},
   "outputs": [],
   "source": []
  }
 ],
 "metadata": {
  "kernelspec": {
   "display_name": "Qiskit v0.34.1 (ipykernel)",
   "language": "python",
   "name": "python3"
  },
  "language_info": {
   "codemirror_mode": {
    "name": "ipython",
    "version": 3
   },
   "file_extension": ".py",
   "mimetype": "text/x-python",
   "name": "python",
   "nbconvert_exporter": "python",
   "pygments_lexer": "ipython3",
   "version": "3.8.12"
  },
  "widgets": {
   "application/vnd.jupyter.widget-state+json": {
    "state": {
     "09178b300d3e4b52b8271d56c2078a4f": {
      "model_module": "@jupyter-widgets/controls",
      "model_module_version": "1.5.0",
      "model_name": "DescriptionStyleModel",
      "state": {
       "description_width": ""
      }
     },
     "0f9a7307864149779e5c0e9115ee7bed": {
      "model_module": "@jupyter-widgets/base",
      "model_module_version": "1.2.0",
      "model_name": "LayoutModel",
      "state": {
       "width": "70px"
      }
     },
     "172a8fbcfce8403e85225d1482383223": {
      "model_module": "@jupyter-widgets/controls",
      "model_module_version": "1.5.0",
      "model_name": "DescriptionStyleModel",
      "state": {
       "description_width": ""
      }
     },
     "194c438d4f394c189c40a263f2b1d270": {
      "model_module": "@jupyter-widgets/base",
      "model_module_version": "1.2.0",
      "model_name": "LayoutModel",
      "state": {
       "margin": "0px 0px 0px 37px",
       "width": "600px"
      }
     },
     "30437f82f68141a5b33a26d294b2c02b": {
      "model_module": "@jupyter-widgets/controls",
      "model_module_version": "1.5.0",
      "model_name": "HTMLModel",
      "state": {
       "layout": "IPY_MODEL_0f9a7307864149779e5c0e9115ee7bed",
       "style": "IPY_MODEL_09178b300d3e4b52b8271d56c2078a4f",
       "value": "<h5>Queue</h5>"
      }
     },
     "32564156d2bf455bbfa2cdc988761411": {
      "model_module": "@jupyter-widgets/base",
      "model_module_version": "1.2.0",
      "model_name": "LayoutModel",
      "state": {
       "width": "95px"
      }
     },
     "38b7cfe78671423da2ed2b20d93d8bb6": {
      "model_module": "@jupyter-widgets/base",
      "model_module_version": "1.2.0",
      "model_name": "LayoutModel",
      "state": {
       "margin": "0px 0px 10px 0px"
      }
     },
     "3c8e692743df483cb9da81ebb12a7831": {
      "model_module": "@jupyter-widgets/controls",
      "model_module_version": "1.5.0",
      "model_name": "HTMLModel",
      "state": {
       "layout": "IPY_MODEL_32564156d2bf455bbfa2cdc988761411",
       "style": "IPY_MODEL_5366860f35cb4fa98be7e72d6bd4641d",
       "value": "<h5>Status</h5>"
      }
     },
     "5366860f35cb4fa98be7e72d6bd4641d": {
      "model_module": "@jupyter-widgets/controls",
      "model_module_version": "1.5.0",
      "model_name": "DescriptionStyleModel",
      "state": {
       "description_width": ""
      }
     },
     "7eca29d9b5b24c43badad29fdc3bdb86": {
      "model_module": "@jupyter-widgets/base",
      "model_module_version": "1.2.0",
      "model_name": "LayoutModel",
      "state": {
       "grid_area": "right",
       "padding": "0px 0px 0px 0px",
       "width": "70px"
      }
     },
     "85e3decbc1fa42ef824e83bddffafe86": {
      "model_module": "@jupyter-widgets/controls",
      "model_module_version": "1.5.0",
      "model_name": "HTMLModel",
      "state": {
       "layout": "IPY_MODEL_ab70030834a046ef8d2849b94bcf9c90",
       "style": "IPY_MODEL_b0ab4d66f9bd48b5bf724d11667f47f7",
       "value": "<h5>Message</h5>"
      }
     },
     "8d17706c439440e78f620eb00d60068d": {
      "model_module": "@jupyter-widgets/controls",
      "model_module_version": "1.5.0",
      "model_name": "ButtonModel",
      "state": {
       "button_style": "primary",
       "description": "Clear",
       "layout": "IPY_MODEL_7eca29d9b5b24c43badad29fdc3bdb86",
       "style": "IPY_MODEL_af6cbcddc0d64b0d847b74a0b4f327c7"
      }
     },
     "932051cd79f241e5a9e076d095bf1875": {
      "model_module": "@jupyter-widgets/controls",
      "model_module_version": "1.5.0",
      "model_name": "HTMLModel",
      "state": {
       "layout": "IPY_MODEL_b481c9e5d2d34fb4a1f0c5d4fa20b9d7",
       "style": "IPY_MODEL_172a8fbcfce8403e85225d1482383223",
       "value": "<h5>Job ID</h5>"
      }
     },
     "9ced567799e2431c9625109df065efce": {
      "model_module": "@jupyter-widgets/base",
      "model_module_version": "1.2.0",
      "model_name": "LayoutModel",
      "state": {
       "width": "145px"
      }
     },
     "ab70030834a046ef8d2849b94bcf9c90": {
      "model_module": "@jupyter-widgets/base",
      "model_module_version": "1.2.0",
      "model_name": "LayoutModel",
      "state": {}
     },
     "af6cbcddc0d64b0d847b74a0b4f327c7": {
      "model_module": "@jupyter-widgets/controls",
      "model_module_version": "1.5.0",
      "model_name": "ButtonStyleModel",
      "state": {}
     },
     "b0ab4d66f9bd48b5bf724d11667f47f7": {
      "model_module": "@jupyter-widgets/controls",
      "model_module_version": "1.5.0",
      "model_name": "DescriptionStyleModel",
      "state": {
       "description_width": ""
      }
     },
     "b481c9e5d2d34fb4a1f0c5d4fa20b9d7": {
      "model_module": "@jupyter-widgets/base",
      "model_module_version": "1.2.0",
      "model_name": "LayoutModel",
      "state": {
       "width": "190px"
      }
     },
     "d737b84f2189464d802c7a253822932d": {
      "model_module": "@jupyter-widgets/base",
      "model_module_version": "1.2.0",
      "model_name": "LayoutModel",
      "state": {
       "grid_template_areas": "\n                                       \". . . . right \"\n                                        ",
       "grid_template_columns": "20% 20% 20% 20% 20%",
       "width": "100%"
      }
     },
     "da6ba826cdc94f5f8d3a40c9e6054079": {
      "model_module": "@jupyter-widgets/controls",
      "model_module_version": "1.5.0",
      "model_name": "HTMLModel",
      "state": {
       "layout": "IPY_MODEL_38b7cfe78671423da2ed2b20d93d8bb6",
       "style": "IPY_MODEL_dc1fdc2737fa42ad992a55afdfc05d92",
       "value": "<p style='font-family: IBM Plex Sans, Arial, Helvetica, sans-serif; font-size: 20px; font-weight: medium;'>Circuit Properties</p>"
      }
     },
     "dc1fdc2737fa42ad992a55afdfc05d92": {
      "model_module": "@jupyter-widgets/controls",
      "model_module_version": "1.5.0",
      "model_name": "DescriptionStyleModel",
      "state": {
       "description_width": ""
      }
     },
     "ebd9e9eef9db4bc8b335eefffd2039b2": {
      "model_module": "@jupyter-widgets/controls",
      "model_module_version": "1.5.0",
      "model_name": "HTMLModel",
      "state": {
       "layout": "IPY_MODEL_9ced567799e2431c9625109df065efce",
       "style": "IPY_MODEL_f0c1d0f965614dfd9e0035b85016b576",
       "value": "<h5>Backend</h5>"
      }
     },
     "ec55e0cfed5944f0afe52185a8a95edc": {
      "model_module": "@jupyter-widgets/controls",
      "model_module_version": "1.5.0",
      "model_name": "GridBoxModel",
      "state": {
       "children": [
        "IPY_MODEL_8d17706c439440e78f620eb00d60068d"
       ],
       "layout": "IPY_MODEL_d737b84f2189464d802c7a253822932d"
      }
     },
     "f0c1d0f965614dfd9e0035b85016b576": {
      "model_module": "@jupyter-widgets/controls",
      "model_module_version": "1.5.0",
      "model_name": "DescriptionStyleModel",
      "state": {
       "description_width": ""
      }
     },
     "f902ad0ba23a4ef79081b48b66337d91": {
      "model_module": "@jupyter-widgets/controls",
      "model_module_version": "1.5.0",
      "model_name": "HBoxModel",
      "state": {
       "children": [
        "IPY_MODEL_932051cd79f241e5a9e076d095bf1875",
        "IPY_MODEL_ebd9e9eef9db4bc8b335eefffd2039b2",
        "IPY_MODEL_3c8e692743df483cb9da81ebb12a7831",
        "IPY_MODEL_30437f82f68141a5b33a26d294b2c02b",
        "IPY_MODEL_85e3decbc1fa42ef824e83bddffafe86"
       ],
       "layout": "IPY_MODEL_194c438d4f394c189c40a263f2b1d270"
      }
     }
    },
    "version_major": 2,
    "version_minor": 0
   }
  }
 },
 "nbformat": 4,
 "nbformat_minor": 5
}
